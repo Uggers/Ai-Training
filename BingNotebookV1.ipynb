{
  "cells": [
    {
      "cell_type": "markdown",
      "metadata": {},
      "source": [
        "# DreamBooth Training on Selfies\n",
        "This notebook trains Stable Diffusion using the DreamBooth method on a dataset of 41 selfies to generate professional-looking images."
      ]
    },
    {
      "cell_type": "code",
      "execution_count": null,
      "metadata": {},
      "outputs": [],
      "source": [
        "# Install necessary libraries\n",
        "!pip install torch diffusers datasets pillow matplotlib huggingface_hub"
      ]
    },
    {
      "cell_type": "code",
      "execution_count": null,
      "metadata": {},
      "outputs": [],
      "source": [
        "import os\n",
        "import torch\n",
        "from diffusers import StableDiffusionPipeline, DPMSolverMultistepScheduler\n",
        "from datasets import load_dataset\n",
        "from PIL import Image\n",
        "import matplotlib.pyplot as plt\n",
        "from huggingface_hub import HfApi, HfFolder, Repository"
      ]
    },
    {
      "cell_type": "markdown",
      "metadata": {},
      "source": [
        "## Load Dataset"
      ]
    },
    {
      "cell_type": "code",
      "execution_count": null,
      "metadata": {},
      "outputs": [],
      "source": [
        "# Load the dataset\n",
        "dataset = load_dataset('selfies')\n",
        "images = [Image.open(f'sample_image_{i:02d}.png') for i in range(1, 42)]"
      ]
    },
    {
      "cell_type": "markdown",
      "metadata": {},
      "source": [
        "## Initialize Stable Diffusion Pipeline"
      ]
    },
    {
      "cell_type": "code",
      "execution_count": null,
      "metadata": {},
      "outputs": [],
      "source": [
        "# Initialize the pipeline\n",
        "model_id = 'CompVis/stable-diffusion-v1-4'\n",
        "pipe = StableDiffusionPipeline.from_pretrained(model_id)\n",
        "pipe.scheduler = DPMSolverMultistepScheduler.from_config(pipe.scheduler.config)\n",
        "pipe = pipe.to('cuda')"
      ]
    },
    {
      "cell_type": "markdown",
      "metadata": {},
      "source": [
        "## DreamBooth Training Loop"
      ]
    },
    {
      "cell_type": "code",
      "execution_count": null,
      "metadata": {},
      "outputs": [],
      "source": [
        "# Training loop using DreamBooth\n",
        "for i, img in enumerate(images):\n",
        "    img = img.resize((512, 512))\n",
        "    img = torch.tensor(img).unsqueeze(0).to('cuda')\n",
        "    pipe.train(img)\n",
        "    if i % 10 == 0:\n",
        "        print(f'Training step {i} completed')"
      ]
    },
    {
      "cell_type": "markdown",
      "metadata": {},
      "source": [
        "## Generate Images"
      ]
    },
    {
      "cell_type": "code",
      "execution_count": null,
      "metadata": {},
      "outputs": [],
      "source": [
        "# Generate images\n",
        "num_samples = 30\n",
        "generated_images = []\n",
        "positive_prompt = 'Professional headshot of a 42-year-old man with a beard and glasses, looking confident and approachable, studio lighting, high resolution, sharp focus'\n",
        "negative_prompt = 'blurry, distorted, unrealistic, low quality, artifacts'\n",
        "for _ in range(num_samples):\n",
        "    image = pipe(positive_prompt, negative_prompt=negative_prompt).images[0]\n",
        "    generated_images.append(image)\n",
        "    plt.imshow(image)\n",
        "    plt.axis('off')\n",
        "    plt.show()"
      ]
    },
    {
      "cell_type": "markdown",
      "metadata": {},
      "source": [
        "## Save and Upload Model to Hugging Face"
      ]
    },
    {
      "cell_type": "code",
      "execution_count": null,
      "metadata": {},
      "outputs": [],
      "source": [
        "# Save the model\n",
        "model_path = 'dreambooth_model'\n",
        "pipe.save_pretrained(model_path)\n",
        "\n",
        "# Upload to Hugging Face\n",
        "api = HfApi()\n",
        "token = HfFolder.get_token()\n",
        "repo_name = 'your-username/dreambooth-model'\n",
        "repo = Repository(local_dir=model_path, clone_from=repo_name, use_auth_token=token)\n",
        "repo.push_to_hub()"
      ]
    }
  ],
  "metadata": {
    "kernelspec": {
      "display_name": "Python 3",
      "language": "python",
      "name": "python3"
    },
    "language_info": {
      "codemirror_mode": {
        "name": "ipython",
        "version": 3
      },
      "file_extension": ".py",
      "mimetype": "text/x-python",
      "name": "python",
      "nbconvert_exporter": "python",
      "pygments_lexer": "ipython3",
      "version": "3.8.10"
    }
  },
  "nbformat": 4,
  "nbformat_minor": 5
}
